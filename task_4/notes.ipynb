{
 "cells": [
  {
   "cell_type": "markdown",
   "id": "97664587-183b-41af-9659-5cdc55dd5700",
   "metadata": {},
   "source": [
    "Задание:\n",
    "> Deliver transactions from one database to another\n",
    "> \n",
    "> Maintain consistency in the face of every component outage\n",
    "> \n",
    "> Use queue or implement direct outbox-to-inbox"
   ]
  },
  {
   "cell_type": "markdown",
   "id": "08c177af-cb0c-410d-bf34-28d599e0c858",
   "metadata": {},
   "source": [
    "Я поднял два Постгреса из docker-compose и Кафку. Кафка сконфигурирована так же как в предыдущих заданиях. В постгресах создал такие таблицы:\n",
    "* pg_start 8000:5432\n",
    "    * main.transactions\n",
    "    * outbox.transactions\n",
    "    * main.balance\n",
    "* pg_end 8001:5432\n",
    "    * main.transactions\n",
    "    * main.balance\n",
    "\n",
    "Задача в том, чтобы вручную реплицировать данные из `main.transactions`. Балансы в `main.balance` должны по итогу совпадать, так как они вычисляются на основе `main.transactions`. Каждая транзакция должна быть лишь единожды учитана в балансах, какие бы ошибки не происходили.\n",
    "\n",
    "В классе PostgreSQL у меня реализована кастомная обёртка к Постгресу на основе asyncpg."
   ]
  },
  {
   "cell_type": "code",
   "execution_count": 1,
   "id": "adbbad04-a176-4aa2-8952-692ec80eb983",
   "metadata": {},
   "outputs": [
    {
     "data": {
      "text/html": [
       "<div>\n",
       "<style scoped>\n",
       "    .dataframe tbody tr th:only-of-type {\n",
       "        vertical-align: middle;\n",
       "    }\n",
       "\n",
       "    .dataframe tbody tr th {\n",
       "        vertical-align: top;\n",
       "    }\n",
       "\n",
       "    .dataframe thead th {\n",
       "        text-align: right;\n",
       "    }\n",
       "</style>\n",
       "<table border=\"1\" class=\"dataframe\">\n",
       "  <thead>\n",
       "    <tr style=\"text-align: right;\">\n",
       "      <th></th>\n",
       "      <th>status</th>\n",
       "    </tr>\n",
       "  </thead>\n",
       "  <tbody>\n",
       "    <tr>\n",
       "      <th>0</th>\n",
       "      <td>pg_start is ready</td>\n",
       "    </tr>\n",
       "  </tbody>\n",
       "</table>\n",
       "</div>"
      ],
      "text/plain": [
       "              status\n",
       "0  pg_start is ready"
      ]
     },
     "metadata": {},
     "output_type": "display_data"
    },
    {
     "data": {
      "text/html": [
       "<div>\n",
       "<style scoped>\n",
       "    .dataframe tbody tr th:only-of-type {\n",
       "        vertical-align: middle;\n",
       "    }\n",
       "\n",
       "    .dataframe tbody tr th {\n",
       "        vertical-align: top;\n",
       "    }\n",
       "\n",
       "    .dataframe thead th {\n",
       "        text-align: right;\n",
       "    }\n",
       "</style>\n",
       "<table border=\"1\" class=\"dataframe\">\n",
       "  <thead>\n",
       "    <tr style=\"text-align: right;\">\n",
       "      <th></th>\n",
       "      <th>status</th>\n",
       "    </tr>\n",
       "  </thead>\n",
       "  <tbody>\n",
       "    <tr>\n",
       "      <th>0</th>\n",
       "      <td>pg_end is ready</td>\n",
       "    </tr>\n",
       "  </tbody>\n",
       "</table>\n",
       "</div>"
      ],
      "text/plain": [
       "            status\n",
       "0  pg_end is ready"
      ]
     },
     "metadata": {},
     "output_type": "display_data"
    }
   ],
   "source": [
    "from PostgreSQL import PostgreSQL\n",
    "pg_start = await PostgreSQL(user='postgres', password='postgres', database='db_start', host='localhost', port=8000).connect()\n",
    "pg_end = await PostgreSQL(user='postgres', password='postgres', database='db_end', host='localhost', port=8001).connect()\n",
    "\n",
    "await pg_start.execute('TRUNCATE TABLE main.transactions')\n",
    "await pg_start.execute('TRUNCATE TABLE outbox.transactions')\n",
    "await pg_start.execute('TRUNCATE TABLE main.balance')\n",
    "await pg_end.execute('TRUNCATE TABLE main.transactions')\n",
    "await pg_end.execute('TRUNCATE TABLE main.balance')\n",
    "\n",
    "display(await pg_start.select(\"SELECT 'pg_start is ready' AS status\"))\n",
    "display(await pg_end.select(\"SELECT 'pg_end is ready' AS status\"))"
   ]
  },
  {
   "cell_type": "markdown",
   "id": "0142cc1f-bbf4-44fd-958f-1322d7a52497",
   "metadata": {},
   "source": [
    "Огранизую запись данных в pg_start. \n",
    "Буду пользоваться декоратором `use_transaction`, который передаёт внутрь декорированной функции коннект с открытой транзакцией."
   ]
  },
  {
   "cell_type": "code",
   "execution_count": null,
   "id": "efef0693-b5ae-4eae-99c3-ae6038efdbdf",
   "metadata": {},
   "outputs": [
    {
     "data": {
      "text/html": [
       "<div>\n",
       "<style scoped>\n",
       "    .dataframe tbody tr th:only-of-type {\n",
       "        vertical-align: middle;\n",
       "    }\n",
       "\n",
       "    .dataframe tbody tr th {\n",
       "        vertical-align: top;\n",
       "    }\n",
       "\n",
       "    .dataframe thead th {\n",
       "        text-align: right;\n",
       "    }\n",
       "</style>\n",
       "<table border=\"1\" class=\"dataframe\">\n",
       "  <thead>\n",
       "    <tr style=\"text-align: right;\">\n",
       "      <th></th>\n",
       "      <th>id</th>\n",
       "      <th>account_id</th>\n",
       "      <th>amount</th>\n",
       "      <th>created_at</th>\n",
       "    </tr>\n",
       "  </thead>\n",
       "  <tbody>\n",
       "    <tr>\n",
       "      <th>0</th>\n",
       "      <td>1472072969025220725</td>\n",
       "      <td>5</td>\n",
       "      <td>50.00</td>\n",
       "      <td>2025-07-23 20:06:21.085330</td>\n",
       "    </tr>\n",
       "    <tr>\n",
       "      <th>1</th>\n",
       "      <td>451141627490821775</td>\n",
       "      <td>1</td>\n",
       "      <td>60.00</td>\n",
       "      <td>2025-07-23 20:06:21.090884</td>\n",
       "    </tr>\n",
       "    <tr>\n",
       "      <th>2</th>\n",
       "      <td>1475064741160474357</td>\n",
       "      <td>10</td>\n",
       "      <td>90.00</td>\n",
       "      <td>2025-07-23 20:06:21.093729</td>\n",
       "    </tr>\n",
       "    <tr>\n",
       "      <th>3</th>\n",
       "      <td>1043847060973054025</td>\n",
       "      <td>1</td>\n",
       "      <td>-80.00</td>\n",
       "      <td>2025-07-23 20:06:21.096271</td>\n",
       "    </tr>\n",
       "    <tr>\n",
       "      <th>4</th>\n",
       "      <td>1216133869908735481</td>\n",
       "      <td>2</td>\n",
       "      <td>90.00</td>\n",
       "      <td>2025-07-23 20:06:21.098962</td>\n",
       "    </tr>\n",
       "  </tbody>\n",
       "</table>\n",
       "</div>"
      ],
      "text/plain": [
       "                    id  account_id  amount                 created_at\n",
       "0  1472072969025220725           5   50.00 2025-07-23 20:06:21.085330\n",
       "1   451141627490821775           1   60.00 2025-07-23 20:06:21.090884\n",
       "2  1475064741160474357          10   90.00 2025-07-23 20:06:21.093729\n",
       "3  1043847060973054025           1  -80.00 2025-07-23 20:06:21.096271\n",
       "4  1216133869908735481           2   90.00 2025-07-23 20:06:21.098962"
      ]
     },
     "metadata": {},
     "output_type": "display_data"
    },
    {
     "data": {
      "text/html": [
       "<div>\n",
       "<style scoped>\n",
       "    .dataframe tbody tr th:only-of-type {\n",
       "        vertical-align: middle;\n",
       "    }\n",
       "\n",
       "    .dataframe tbody tr th {\n",
       "        vertical-align: top;\n",
       "    }\n",
       "\n",
       "    .dataframe thead th {\n",
       "        text-align: right;\n",
       "    }\n",
       "</style>\n",
       "<table border=\"1\" class=\"dataframe\">\n",
       "  <thead>\n",
       "    <tr style=\"text-align: right;\">\n",
       "      <th></th>\n",
       "      <th>id</th>\n",
       "      <th>account_id</th>\n",
       "      <th>amount</th>\n",
       "      <th>created_at</th>\n",
       "    </tr>\n",
       "  </thead>\n",
       "  <tbody>\n",
       "    <tr>\n",
       "      <th>0</th>\n",
       "      <td>1472072969025220725</td>\n",
       "      <td>5</td>\n",
       "      <td>50.00</td>\n",
       "      <td>2025-07-23 20:06:21.085330</td>\n",
       "    </tr>\n",
       "    <tr>\n",
       "      <th>1</th>\n",
       "      <td>451141627490821775</td>\n",
       "      <td>1</td>\n",
       "      <td>60.00</td>\n",
       "      <td>2025-07-23 20:06:21.090884</td>\n",
       "    </tr>\n",
       "    <tr>\n",
       "      <th>2</th>\n",
       "      <td>1475064741160474357</td>\n",
       "      <td>10</td>\n",
       "      <td>90.00</td>\n",
       "      <td>2025-07-23 20:06:21.093729</td>\n",
       "    </tr>\n",
       "    <tr>\n",
       "      <th>3</th>\n",
       "      <td>1043847060973054025</td>\n",
       "      <td>1</td>\n",
       "      <td>-80.00</td>\n",
       "      <td>2025-07-23 20:06:21.096271</td>\n",
       "    </tr>\n",
       "    <tr>\n",
       "      <th>4</th>\n",
       "      <td>1216133869908735481</td>\n",
       "      <td>2</td>\n",
       "      <td>90.00</td>\n",
       "      <td>2025-07-23 20:06:21.098962</td>\n",
       "    </tr>\n",
       "  </tbody>\n",
       "</table>\n",
       "</div>"
      ],
      "text/plain": [
       "                    id  account_id  amount                 created_at\n",
       "0  1472072969025220725           5   50.00 2025-07-23 20:06:21.085330\n",
       "1   451141627490821775           1   60.00 2025-07-23 20:06:21.090884\n",
       "2  1475064741160474357          10   90.00 2025-07-23 20:06:21.093729\n",
       "3  1043847060973054025           1  -80.00 2025-07-23 20:06:21.096271\n",
       "4  1216133869908735481           2   90.00 2025-07-23 20:06:21.098962"
      ]
     },
     "metadata": {},
     "output_type": "display_data"
    },
    {
     "data": {
      "text/html": [
       "<div>\n",
       "<style scoped>\n",
       "    .dataframe tbody tr th:only-of-type {\n",
       "        vertical-align: middle;\n",
       "    }\n",
       "\n",
       "    .dataframe tbody tr th {\n",
       "        vertical-align: top;\n",
       "    }\n",
       "\n",
       "    .dataframe thead th {\n",
       "        text-align: right;\n",
       "    }\n",
       "</style>\n",
       "<table border=\"1\" class=\"dataframe\">\n",
       "  <thead>\n",
       "    <tr style=\"text-align: right;\">\n",
       "      <th></th>\n",
       "      <th>account_id</th>\n",
       "      <th>current_balance</th>\n",
       "      <th>updated_at</th>\n",
       "    </tr>\n",
       "  </thead>\n",
       "  <tbody>\n",
       "    <tr>\n",
       "      <th>0</th>\n",
       "      <td>5</td>\n",
       "      <td>50.00</td>\n",
       "      <td>2025-07-23 20:06:21.085330</td>\n",
       "    </tr>\n",
       "    <tr>\n",
       "      <th>1</th>\n",
       "      <td>10</td>\n",
       "      <td>90.00</td>\n",
       "      <td>2025-07-23 20:06:21.093729</td>\n",
       "    </tr>\n",
       "    <tr>\n",
       "      <th>2</th>\n",
       "      <td>1</td>\n",
       "      <td>-20.00</td>\n",
       "      <td>2025-07-23 20:06:21.096271</td>\n",
       "    </tr>\n",
       "    <tr>\n",
       "      <th>3</th>\n",
       "      <td>2</td>\n",
       "      <td>90.00</td>\n",
       "      <td>2025-07-23 20:06:21.098962</td>\n",
       "    </tr>\n",
       "  </tbody>\n",
       "</table>\n",
       "</div>"
      ],
      "text/plain": [
       "   account_id current_balance                 updated_at\n",
       "0           5           50.00 2025-07-23 20:06:21.085330\n",
       "1          10           90.00 2025-07-23 20:06:21.093729\n",
       "2           1          -20.00 2025-07-23 20:06:21.096271\n",
       "3           2           90.00 2025-07-23 20:06:21.098962"
      ]
     },
     "metadata": {},
     "output_type": "display_data"
    }
   ],
   "source": [
    "import asyncio\n",
    "import random\n",
    "import asyncpg\n",
    "from uuid import uuid4\n",
    "from datetime import datetime\n",
    "\n",
    "def use_transaction(postgres_wrapper):\n",
    "    def _use_transaction(func):\n",
    "        async def _use_transaction_aync(*args, **kwargs):\n",
    "            try:\n",
    "                async with postgres_wrapper.transaction() as connection:\n",
    "                    await func(\n",
    "                        pg=postgres_wrapper, \n",
    "                        connection=connection,\n",
    "                        *args, **kwargs)\n",
    "            except asyncpg.UniqueViolationError:\n",
    "                print('Faced Unique Violation Error. Skipping')\n",
    "        return _use_transaction_aync\n",
    "    return _use_transaction\n",
    "\n",
    "\n",
    "@use_transaction(pg_start)\n",
    "async def generate_new_row(pg, connection, transaction_id=None):\n",
    "    round_to_ten = lambda x: x - (x % 10)\n",
    "    payload = [\n",
    "        transaction_id or hash(uuid4()), # id\n",
    "        random.randint(1, 10),           # account_id\n",
    "        round_to_ten(random.randint(10, 100)) * random.choice([1, -1]),  # amount\n",
    "        datetime.now()]                  # created_at\n",
    "    await pg.insert('INSERT INTO main.transactions (id, account_id, amount, created_at) VALUES', payload, con=connection)\n",
    "    await pg.insert('INSERT INTO outbox.transactions (id, account_id, amount, created_at) VALUES', payload, con=connection)\n",
    "    await pg.insert(\"\"\"\n",
    "        INSERT INTO main.balance (account_id, current_balance, updated_at)\n",
    "        VALUES\n",
    "        ON CONFLICT (account_id) DO\n",
    "            UPDATE SET current_balance = balance.current_balance + EXCLUDED.current_balance, updated_at = EXCLUDED.updated_at\n",
    "            RETURNING current_balance\"\"\", \n",
    "        [payload[1], payload[2], payload[3]], \n",
    "        con=connection)\n",
    "\n",
    "for x in range(5):\n",
    "    await generate_new_row()\n",
    "df = await pg_start.select('SELECT * FROM main.transactions')\n",
    "display(df)\n",
    "display(await pg_start.select('SELECT * FROM outbox.transactions'))\n",
    "display(await pg_start.select('SELECT * FROM main.balance'))"
   ]
  },
  {
   "cell_type": "markdown",
   "id": "5f70275d-cd40-4f3a-8efe-a0b50794df74",
   "metadata": {},
   "source": [
    "Я не стал отделять сервис, который вставляет в базу от сервиса, который генерирует сообщения. Если бы они были отделены, от сервиса-генератора сообщений требовалась бы идемпотентная генерация поля `id` - идентификатора транзации.\n",
    "\n",
    "По идентификатору транзакции в `main.transactions` создан первичный ключ, так что если сервис попытается повторно записать строку к совпадающим `id`, Постгрес не позволит этого сделать."
   ]
  },
  {
   "cell_type": "code",
   "execution_count": 3,
   "id": "9919ab76-1b82-4861-b412-f13fa085aed4",
   "metadata": {},
   "outputs": [
    {
     "name": "stdout",
     "output_type": "stream",
     "text": [
      "Faced Unique Violation Error. Skipping\n"
     ]
    },
    {
     "data": {
      "text/html": [
       "<div>\n",
       "<style scoped>\n",
       "    .dataframe tbody tr th:only-of-type {\n",
       "        vertical-align: middle;\n",
       "    }\n",
       "\n",
       "    .dataframe tbody tr th {\n",
       "        vertical-align: top;\n",
       "    }\n",
       "\n",
       "    .dataframe thead th {\n",
       "        text-align: right;\n",
       "    }\n",
       "</style>\n",
       "<table border=\"1\" class=\"dataframe\">\n",
       "  <thead>\n",
       "    <tr style=\"text-align: right;\">\n",
       "      <th></th>\n",
       "      <th>account_id</th>\n",
       "      <th>current_balance</th>\n",
       "      <th>updated_at</th>\n",
       "    </tr>\n",
       "  </thead>\n",
       "  <tbody>\n",
       "    <tr>\n",
       "      <th>0</th>\n",
       "      <td>5</td>\n",
       "      <td>50.00</td>\n",
       "      <td>2025-07-23 20:06:21.085330</td>\n",
       "    </tr>\n",
       "    <tr>\n",
       "      <th>1</th>\n",
       "      <td>10</td>\n",
       "      <td>90.00</td>\n",
       "      <td>2025-07-23 20:06:21.093729</td>\n",
       "    </tr>\n",
       "    <tr>\n",
       "      <th>2</th>\n",
       "      <td>1</td>\n",
       "      <td>-20.00</td>\n",
       "      <td>2025-07-23 20:06:21.096271</td>\n",
       "    </tr>\n",
       "    <tr>\n",
       "      <th>3</th>\n",
       "      <td>2</td>\n",
       "      <td>90.00</td>\n",
       "      <td>2025-07-23 20:06:21.098962</td>\n",
       "    </tr>\n",
       "  </tbody>\n",
       "</table>\n",
       "</div>"
      ],
      "text/plain": [
       "   account_id current_balance                 updated_at\n",
       "0           5           50.00 2025-07-23 20:06:21.085330\n",
       "1          10           90.00 2025-07-23 20:06:21.093729\n",
       "2           1          -20.00 2025-07-23 20:06:21.096271\n",
       "3           2           90.00 2025-07-23 20:06:21.098962"
      ]
     },
     "metadata": {},
     "output_type": "display_data"
    }
   ],
   "source": [
    "await generate_new_row(transaction_id=df.iloc[0, 0])\n",
    "display(await pg_start.select('SELECT * FROM main.balance'))"
   ]
  },
  {
   "cell_type": "markdown",
   "id": "3ab893b6-131c-4699-962e-bdc87ac62d90",
   "metadata": {},
   "source": [
    "Пока мы не получаем подтверждения об успешном выполнения каждой из трёх команд к базе, то не закрываем транзакцию. А без закрытой транзакции не будет доведена до конца ни одна из команд. Так что либо вставка успешно выполняется во все три таблицы, либо ни в одну. \n",
    "По этой же причине в таблице в outbox можно не создавать CONSTRAINT-ы - все необходимые проверки будут происходить при вставке в основную таблицу.\n",
    "\n",
    "Теперь из outbox перенесу данные в Kafka. Пока не очень понимаю, для чего здесь нужна Kafka, если можно писать в целевую базу напрямую, но интересно попробовать. "
   ]
  },
  {
   "cell_type": "code",
   "execution_count": 4,
   "id": "5b80bb23-d656-44f0-b021-72b73603aac3",
   "metadata": {
    "scrolled": true
   },
   "outputs": [],
   "source": [
    "!../task_3/kafka/bin/kafka-topics.sh --delete --topic outbox-transactions --bootstrap-server localhost:19092,localhost:19091,localhost:19090"
   ]
  },
  {
   "cell_type": "code",
   "execution_count": 5,
   "id": "30345d71-b8a9-48ea-bcce-2687285b1abb",
   "metadata": {},
   "outputs": [
    {
     "name": "stdout",
     "output_type": "stream",
     "text": [
      "Created topic outbox-transactions.\n"
     ]
    }
   ],
   "source": [
    "!../task_3/kafka/bin/kafka-topics.sh --create --topic outbox-transactions --partitions 1 --bootstrap-server localhost:19092,localhost:19091,localhost:19090"
   ]
  },
  {
   "cell_type": "code",
   "execution_count": null,
   "id": "1c780c5c-2598-4be5-9c60-f42b899418e7",
   "metadata": {},
   "outputs": [],
   "source": [
    "import json\n",
    "from confluent_kafka import Producer\n",
    "\n",
    "producer_config = {\n",
    "    'bootstrap.servers': 'localhost:19090,localhost:19091,localhost:19092',\n",
    "    'enable.idempotence': True,\n",
    "    'acks': 'all',\n",
    "    'retries': 5,\n",
    "    'batch.size': 65536,\n",
    "    'linger.ms': 1000}\n",
    "producer = Producer(producer_config)\n",
    "\n",
    "def delivery_report(err, msg):\n",
    "    if err is not None:\n",
    "        print(f'Message delivery failed: {err}')\n",
    "    else:\n",
    "        print(f'Delivered {msg.value().decode()}')\n",
    "\n",
    "@use_transaction(pg_start)\n",
    "async def transfer_outbox_to_kafka(pg, connection):\n",
    "    for _id, account_id, amount, created_at in await pg_start.select(\"\"\"\n",
    "            DELETE FROM outbox.transactions\n",
    "            WHERE ctid IN (SELECT ctid FROM outbox.transactions LIMIT 100)\n",
    "            RETURNING id, account_id, amount, created_at\n",
    "        \"\"\", con=connection).values:\n",
    "        message = dict(id=_id, account_id=account_id, amount=int(amount), created_at=str(created_at))\n",
    "        producer.produce(\n",
    "            'outbox-transactions',\n",
    "            key=str(_id),\n",
    "            value=json.dumps(message),\n",
    "            callback=delivery_report)\n",
    "    producer.flush()"
   ]
  },
  {
   "cell_type": "markdown",
   "id": "7b77be4d-a11c-448c-99ef-1d511c2615e2",
   "metadata": {},
   "source": [
    "Продьюсер предпримет пять попыток отправить сообщение в Кафку так, чтобы запись прошла на минимально допустимое количество in-sync реплик. Благодаря `enable.idempotence=true` мы имеем гарантию, что в результате этих пяти попыток сообщение не запишется больше одного раза. \n",
    "\n",
    "Одна строка из таблицы будет весить примерно 160 байт. Если мы ставим размер батча в 65536 байт, не следует отправлять больше, чем 300 строк за раз, иначе продьюсер предпримет несколько попыток отправить сообщение, и первая попытка можешь быть успешной, а вторая - нет. Тогда мы не узнаем о том, что часть данных до Кафки успешно дошла. \n",
    "\n",
    "Если возникает ошибка до записи в Кафку, то транзакция обрывается, и строки остаются в `outbox.transactions`. Но если ошибка возникает после успешной записи в Кафку (после `producer.flush()`, например), запись тех же данных повторится ещё раз, так как транзакция с `DELETE`-ом из `outbox.transactions` всё-равно оборвётся. В принципе, это не страшно, потому что принимающей стороной будет Постгрес с первичным ключом по полю `id`, который не допустит дублей. Но попробуем и на этом этапе приблизиться к exactly-once.\n",
    "\n",
    "Пусть декоратор `use_transaction` дополнительно принимает путь к файлу. В этот recovery-файл будет сохранять вывод декорированной функции - список идентификаторов, запушенных в Кафку - но только в том случае, если:\n",
    "* уже получил вывод от функции, записывающей в Кафку (значит, Кафка подтвердила успешную запись)\n",
    "* сталкивается с ошибкой при закрытии транзакции (потому что нет других мест, где он может споткнуться)\n",
    "\n",
    "Запись в файловую систему не отказывает так часто, как сеть, так что будем считать, что на этапе сохранения в файлик ошибок быть не может. Самое сложное, видимо, будет таскать recovery-файлик вслед за outbox-приложением, если последнее будет развёрнуто в кубере/облаке и будет переодически менять хоста."
   ]
  },
  {
   "cell_type": "code",
   "execution_count": null,
   "id": "ce5efb68-4848-4d13-aec2-13dd39ab9e68",
   "metadata": {},
   "outputs": [],
   "source": [
    "def use_transaction_with_recovery_file(postgres_wrapper, recovery_path=None):\n",
    "    def _use_transaction(func):\n",
    "        async def _use_transaction_aync(*args, **kwargs):\n",
    "            with open(recovery_path, 'r') as file:\n",
    "                already_processed_ids = set(map(int, filter(lambda x: x, file.read().split(' '))))\n",
    "            func_output = None\n",
    "            if recovery_path is not None:\n",
    "                kwargs['already_processed_ids'] = already_processed_ids\n",
    "            try:\n",
    "                async with postgres_wrapper.transaction() as connection:\n",
    "                    func_output = await func(\n",
    "                        pg=postgres_wrapper, \n",
    "                        connection=connection,\n",
    "                        *[x for x in args if x != 'error'], \n",
    "                        **kwargs)\n",
    "                    if 'error' in args:\n",
    "                        raise Exception('raised intentionally')\n",
    "                    \n",
    "            except asyncpg.UniqueViolationError:\n",
    "                print('Faced Unique Violation Error. Skipping')\n",
    "                \n",
    "            except Exception as exc:\n",
    "                if recovery_path is not None and func_output is not None:\n",
    "                    # если запись успешна, но транзакция не закрылась, то добавляю записанные идентификаторы в файл\n",
    "                    with open(recovery_path, 'w') as file:\n",
    "                        file.write(' '.join(map(str, already_processed_ids.union(func_output))) + ' ')\n",
    "                raise exc\n",
    "            \n",
    "            else:\n",
    "                ids_that_should_remain = already_processed_ids.difference(func_output)\n",
    "                if len(already_processed_ids) > 0 and len(ids_that_should_remain) != len(already_processed_ids):\n",
    "                    # если запись в Кафку успешна и если строки удалены из таблицы в схеме outbox, то удаляю их из файла\n",
    "                    with open(recovery_path, 'w') as file:\n",
    "                        file.write(' '.join(map(str, ids_that_should_remain)) + ' ')\n",
    "        return _use_transaction_aync\n",
    "    return _use_transaction\n",
    "\n",
    "\n",
    "RECOVERY_PATH = '/home/timosha/wb/queues-devhands/task_4/recovery.txt'\n",
    "@use_transaction_with_recovery_file(pg_start, recovery_path=RECOVERY_PATH)\n",
    "async def transfer_outbox_to_kafka(pg, connection, already_processed_ids): \n",
    "    new_ids = []\n",
    "    for _id, account_id, amount, created_at in (await pg.select(\"\"\"\n",
    "            DELETE FROM outbox.transactions\n",
    "            WHERE ctid IN (SELECT ctid FROM outbox.transactions LIMIT 100)\n",
    "            RETURNING id, account_id, amount, created_at\"\"\", con=connection)).values:\n",
    "        \n",
    "        new_ids.append(_id)\n",
    "        if _id in already_processed_ids:\n",
    "            continue\n",
    "        message = dict(id=_id, account_id=account_id, amount=int(amount), created_at=str(created_at))\n",
    "        producer.produce(\n",
    "            'outbox-transactions',\n",
    "            key=str(_id),\n",
    "            value=json.dumps(message),\n",
    "            callback=delivery_report)\n",
    "    producer.flush()\n",
    "    return new_ids\n",
    "\n",
    "with open(RECOVERY_PATH, 'w') as file:\n",
    "    file.write('')"
   ]
  },
  {
   "cell_type": "code",
   "execution_count": 9,
   "id": "53f3bca2-d5bd-45d4-ab50-690481f3f929",
   "metadata": {},
   "outputs": [
    {
     "name": "stdout",
     "output_type": "stream",
     "text": [
      "Delivered {\"id\": 1472072969025220725, \"account_id\": 5, \"amount\": 50, \"created_at\": \"2025-07-23 20:06:21.085330\"}\n",
      "Delivered {\"id\": 451141627490821775, \"account_id\": 1, \"amount\": 60, \"created_at\": \"2025-07-23 20:06:21.090884\"}\n",
      "Delivered {\"id\": 1475064741160474357, \"account_id\": 10, \"amount\": 90, \"created_at\": \"2025-07-23 20:06:21.093729\"}\n",
      "Delivered {\"id\": 1043847060973054025, \"account_id\": 1, \"amount\": -80, \"created_at\": \"2025-07-23 20:06:21.096271\"}\n",
      "Delivered {\"id\": 1216133869908735481, \"account_id\": 2, \"amount\": 90, \"created_at\": \"2025-07-23 20:06:21.098962\"}\n",
      "\n",
      "Exception: raised intentionally\n"
     ]
    }
   ],
   "source": [
    "try:\n",
    "    await transfer_outbox_to_kafka('error')\n",
    "except Exception as exc:\n",
    "    print('\\nException: ' + str(exc))"
   ]
  },
  {
   "cell_type": "code",
   "execution_count": null,
   "id": "45455131-e79d-438c-9e19-8f0894901a16",
   "metadata": {},
   "outputs": [
    {
     "name": "stdout",
     "output_type": "stream",
     "text": [
      "b'{\"id\": 1472072969025220725, \"account_id\": 5, \"amount\": 50, \"created_at\": \"2025-07-23 20:06:21.085330\"}'\n",
      "b'{\"id\": 451141627490821775, \"account_id\": 1, \"amount\": 60, \"created_at\": \"2025-07-23 20:06:21.090884\"}'\n",
      "b'{\"id\": 1475064741160474357, \"account_id\": 10, \"amount\": 90, \"created_at\": \"2025-07-23 20:06:21.093729\"}'\n",
      "b'{\"id\": 1043847060973054025, \"account_id\": 1, \"amount\": -80, \"created_at\": \"2025-07-23 20:06:21.096271\"}'\n",
      "b'{\"id\": 1216133869908735481, \"account_id\": 2, \"amount\": 90, \"created_at\": \"2025-07-23 20:06:21.098962\"}'\n"
     ]
    }
   ],
   "source": [
    "from confluent_kafka import Consumer\n",
    "\n",
    "def get_msg_from_topic():\n",
    "    consumer_config = {\n",
    "        'bootstrap.servers': 'localhost:19090,localhost:19091,localhost:19092',\n",
    "        'group.id': str(uuid4()),\n",
    "        'auto.offset.reset': 'earliest'}\n",
    "    consumer = Consumer(consumer_config)\n",
    "    consumer.subscribe(['outbox-transactions'])\n",
    "    for _ in range(10):\n",
    "        msg = consumer.poll(timeout=1.0)\n",
    "        if msg is None:\n",
    "            continue\n",
    "        print(msg.value())\n",
    "        \n",
    "get_msg_from_topic()"
   ]
  },
  {
   "cell_type": "code",
   "execution_count": 11,
   "id": "9624df1a-f71d-4b8a-8fe0-e9c33cac8866",
   "metadata": {},
   "outputs": [
    {
     "data": {
      "text/html": [
       "<div>\n",
       "<style scoped>\n",
       "    .dataframe tbody tr th:only-of-type {\n",
       "        vertical-align: middle;\n",
       "    }\n",
       "\n",
       "    .dataframe tbody tr th {\n",
       "        vertical-align: top;\n",
       "    }\n",
       "\n",
       "    .dataframe thead th {\n",
       "        text-align: right;\n",
       "    }\n",
       "</style>\n",
       "<table border=\"1\" class=\"dataframe\">\n",
       "  <thead>\n",
       "    <tr style=\"text-align: right;\">\n",
       "      <th></th>\n",
       "      <th>id</th>\n",
       "      <th>account_id</th>\n",
       "      <th>amount</th>\n",
       "      <th>created_at</th>\n",
       "    </tr>\n",
       "  </thead>\n",
       "  <tbody>\n",
       "    <tr>\n",
       "      <th>0</th>\n",
       "      <td>1472072969025220725</td>\n",
       "      <td>5</td>\n",
       "      <td>50.00</td>\n",
       "      <td>2025-07-23 20:06:21.085330</td>\n",
       "    </tr>\n",
       "    <tr>\n",
       "      <th>1</th>\n",
       "      <td>451141627490821775</td>\n",
       "      <td>1</td>\n",
       "      <td>60.00</td>\n",
       "      <td>2025-07-23 20:06:21.090884</td>\n",
       "    </tr>\n",
       "    <tr>\n",
       "      <th>2</th>\n",
       "      <td>1475064741160474357</td>\n",
       "      <td>10</td>\n",
       "      <td>90.00</td>\n",
       "      <td>2025-07-23 20:06:21.093729</td>\n",
       "    </tr>\n",
       "    <tr>\n",
       "      <th>3</th>\n",
       "      <td>1043847060973054025</td>\n",
       "      <td>1</td>\n",
       "      <td>-80.00</td>\n",
       "      <td>2025-07-23 20:06:21.096271</td>\n",
       "    </tr>\n",
       "    <tr>\n",
       "      <th>4</th>\n",
       "      <td>1216133869908735481</td>\n",
       "      <td>2</td>\n",
       "      <td>90.00</td>\n",
       "      <td>2025-07-23 20:06:21.098962</td>\n",
       "    </tr>\n",
       "  </tbody>\n",
       "</table>\n",
       "</div>"
      ],
      "text/plain": [
       "                    id  account_id  amount                 created_at\n",
       "0  1472072969025220725           5   50.00 2025-07-23 20:06:21.085330\n",
       "1   451141627490821775           1   60.00 2025-07-23 20:06:21.090884\n",
       "2  1475064741160474357          10   90.00 2025-07-23 20:06:21.093729\n",
       "3  1043847060973054025           1  -80.00 2025-07-23 20:06:21.096271\n",
       "4  1216133869908735481           2   90.00 2025-07-23 20:06:21.098962"
      ]
     },
     "execution_count": 11,
     "metadata": {},
     "output_type": "execute_result"
    }
   ],
   "source": [
    "await pg_start.select('SELECT * FROM outbox.transactions')"
   ]
  },
  {
   "cell_type": "markdown",
   "id": "587d0cdb-5426-4ab7-b38a-fe9fbbf95f82",
   "metadata": {},
   "source": [
    "Вот пример отказа после коммита в Кафку: строки есть в Кафке, но не удалены из outbox. "
   ]
  },
  {
   "cell_type": "code",
   "execution_count": 12,
   "id": "d0360358-10a8-4c87-bf65-09cdd9ee6034",
   "metadata": {},
   "outputs": [
    {
     "name": "stdout",
     "output_type": "stream",
     "text": [
      "1043847060973054025 451141627490821775 1475064741160474357 1472072969025220725 1216133869908735481 \n"
     ]
    }
   ],
   "source": [
    "with open(RECOVERY_PATH, 'r') as file:\n",
    "    print(file.read())"
   ]
  },
  {
   "cell_type": "markdown",
   "id": "e51980bc-50cc-4e0a-8c58-36950ad6d91b",
   "metadata": {},
   "source": [
    "Идентификаторы транзакций записаны в recovery-файл, и на следующий запуск не будем их отправлять в Кафку, но удалим из outbox. Если удалятся успешно, то сотрём их из recovery-файлика."
   ]
  },
  {
   "cell_type": "code",
   "execution_count": 13,
   "id": "e3eee74a-f489-41da-acc8-f419182add48",
   "metadata": {},
   "outputs": [
    {
     "name": "stdout",
     "output_type": "stream",
     "text": [
      "b'{\"id\": 1472072969025220725, \"account_id\": 5, \"amount\": 50, \"created_at\": \"2025-07-23 20:06:21.085330\"}'\n",
      "b'{\"id\": 451141627490821775, \"account_id\": 1, \"amount\": 60, \"created_at\": \"2025-07-23 20:06:21.090884\"}'\n",
      "b'{\"id\": 1475064741160474357, \"account_id\": 10, \"amount\": 90, \"created_at\": \"2025-07-23 20:06:21.093729\"}'\n",
      "b'{\"id\": 1043847060973054025, \"account_id\": 1, \"amount\": -80, \"created_at\": \"2025-07-23 20:06:21.096271\"}'\n",
      "b'{\"id\": 1216133869908735481, \"account_id\": 2, \"amount\": 90, \"created_at\": \"2025-07-23 20:06:21.098962\"}'\n"
     ]
    }
   ],
   "source": [
    "await transfer_outbox_to_kafka()\n",
    "get_msg_from_topic()"
   ]
  },
  {
   "cell_type": "code",
   "execution_count": 14,
   "id": "250cce98-36a7-4da7-a718-d8d6d15f7fb3",
   "metadata": {},
   "outputs": [
    {
     "data": {
      "text/html": [
       "<div>\n",
       "<style scoped>\n",
       "    .dataframe tbody tr th:only-of-type {\n",
       "        vertical-align: middle;\n",
       "    }\n",
       "\n",
       "    .dataframe tbody tr th {\n",
       "        vertical-align: top;\n",
       "    }\n",
       "\n",
       "    .dataframe thead th {\n",
       "        text-align: right;\n",
       "    }\n",
       "</style>\n",
       "<table border=\"1\" class=\"dataframe\">\n",
       "  <thead>\n",
       "    <tr style=\"text-align: right;\">\n",
       "      <th></th>\n",
       "      <th>id</th>\n",
       "      <th>account_id</th>\n",
       "      <th>amount</th>\n",
       "      <th>created_at</th>\n",
       "    </tr>\n",
       "  </thead>\n",
       "  <tbody>\n",
       "  </tbody>\n",
       "</table>\n",
       "</div>"
      ],
      "text/plain": [
       "Empty DataFrame\n",
       "Columns: [id, account_id, amount, created_at]\n",
       "Index: []"
      ]
     },
     "execution_count": 14,
     "metadata": {},
     "output_type": "execute_result"
    }
   ],
   "source": [
    "await pg_start.select('SELECT * FROM outbox.transactions')"
   ]
  },
  {
   "cell_type": "code",
   "execution_count": 15,
   "id": "8e88eda6-e6bf-4626-ae39-1d15cbc5b6a9",
   "metadata": {},
   "outputs": [
    {
     "name": "stdout",
     "output_type": "stream",
     "text": [
      " \n"
     ]
    }
   ],
   "source": [
    "with open(RECOVERY_PATH, 'r') as file:\n",
    "    print(file.read())"
   ]
  },
  {
   "cell_type": "markdown",
   "id": "ff116a17-47b3-4951-ae62-c80dc6c23496",
   "metadata": {},
   "source": [
    "Всё работает так, как предполагалось. Осталось написать inbox-приёмник из Кафки."
   ]
  },
  {
   "cell_type": "code",
   "execution_count": null,
   "id": "705b589b-af34-487f-9668-92e36e76fdd3",
   "metadata": {},
   "outputs": [],
   "source": [
    "async def transfer_kafka_to_inbox():\n",
    "    consumer_config = {\n",
    "        'bootstrap.servers': 'localhost:19090,localhost:19091,localhost:19092',\n",
    "        'group.id': str(uuid4()),\n",
    "        'enable.auto.commit': False,\n",
    "        'auto.offset.reset': 'earliest'}\n",
    "    consumer = Consumer(consumer_config)\n",
    "    consumer.subscribe(['outbox-transactions'])\n",
    "    for _ in range(10):  # или while True\n",
    "        msg = consumer.poll(timeout=1.0)\n",
    "        if msg is None:\n",
    "            await asyncio.sleep(0.5)\n",
    "            continue\n",
    "        try:\n",
    "            message = json.loads(msg.value())\n",
    "            message['created_at'] = datetime.strptime(message['created_at'], '%Y-%m-%d %H:%M:%S.%f')\n",
    "            await write_to_db_end(payload=list(message.values()))\n",
    "            consumer.commit(message=msg)\n",
    "        except asyncpg.UniqueViolationError:\n",
    "            print('Faced Unique Violation Error. Skipping')\n",
    "            consumer.commit(message=msg)\n",
    "        except Exception as exc:\n",
    "            print(str(exc))\n",
    "            await asyncio.sleep(1)\n",
    "\n",
    "@use_transaction(pg_end)\n",
    "async def write_to_db_end(pg, connection, payload):\n",
    "    await pg.insert('INSERT INTO main.transactions (id, account_id, amount, created_at) VALUES', payload, con=connection)\n",
    "    await pg.insert(\"\"\"\n",
    "        INSERT INTO main.balance (account_id, current_balance, updated_at)\n",
    "        VALUES\n",
    "        ON CONFLICT (account_id) DO\n",
    "            UPDATE SET current_balance = balance.current_balance + EXCLUDED.current_balance, updated_at = EXCLUDED.updated_at\n",
    "            RETURNING current_balance\"\"\", \n",
    "        [payload[1], payload[2], payload[3]], \n",
    "        con=connection)\n",
    "\n",
    "await transfer_kafka_to_inbox()"
   ]
  },
  {
   "cell_type": "markdown",
   "id": "867e5168-b9b4-4e7d-86ee-49ac6363e677",
   "metadata": {},
   "source": [
    "`enable.auto.commit=false` даёт гарантию, что если во время обработки случится ошибка и приложение упадёт раньше, чем закоммитит прочтение, оно получит сообщение снова. Это нормально. Худший сценарий - мы попытаемся вставить сообщение повторно. Но в этом случае споткнёмся об UNIQUE CONSTRAINT. "
   ]
  },
  {
   "cell_type": "code",
   "execution_count": 17,
   "id": "b8d3f230-46ff-400c-86e9-54c79cd1ca24",
   "metadata": {},
   "outputs": [
    {
     "data": {
      "text/html": [
       "<div>\n",
       "<style scoped>\n",
       "    .dataframe tbody tr th:only-of-type {\n",
       "        vertical-align: middle;\n",
       "    }\n",
       "\n",
       "    .dataframe tbody tr th {\n",
       "        vertical-align: top;\n",
       "    }\n",
       "\n",
       "    .dataframe thead th {\n",
       "        text-align: right;\n",
       "    }\n",
       "</style>\n",
       "<table border=\"1\" class=\"dataframe\">\n",
       "  <thead>\n",
       "    <tr style=\"text-align: right;\">\n",
       "      <th></th>\n",
       "      <th>id</th>\n",
       "      <th>account_id</th>\n",
       "      <th>amount</th>\n",
       "      <th>created_at</th>\n",
       "    </tr>\n",
       "  </thead>\n",
       "  <tbody>\n",
       "    <tr>\n",
       "      <th>0</th>\n",
       "      <td>1472072969025220725</td>\n",
       "      <td>5</td>\n",
       "      <td>50.00</td>\n",
       "      <td>2025-07-23 20:06:21.085330</td>\n",
       "    </tr>\n",
       "    <tr>\n",
       "      <th>1</th>\n",
       "      <td>451141627490821775</td>\n",
       "      <td>1</td>\n",
       "      <td>60.00</td>\n",
       "      <td>2025-07-23 20:06:21.090884</td>\n",
       "    </tr>\n",
       "    <tr>\n",
       "      <th>2</th>\n",
       "      <td>1475064741160474357</td>\n",
       "      <td>10</td>\n",
       "      <td>90.00</td>\n",
       "      <td>2025-07-23 20:06:21.093729</td>\n",
       "    </tr>\n",
       "    <tr>\n",
       "      <th>3</th>\n",
       "      <td>1043847060973054025</td>\n",
       "      <td>1</td>\n",
       "      <td>-80.00</td>\n",
       "      <td>2025-07-23 20:06:21.096271</td>\n",
       "    </tr>\n",
       "    <tr>\n",
       "      <th>4</th>\n",
       "      <td>1216133869908735481</td>\n",
       "      <td>2</td>\n",
       "      <td>90.00</td>\n",
       "      <td>2025-07-23 20:06:21.098962</td>\n",
       "    </tr>\n",
       "  </tbody>\n",
       "</table>\n",
       "</div>"
      ],
      "text/plain": [
       "                    id  account_id  amount                 created_at\n",
       "0  1472072969025220725           5   50.00 2025-07-23 20:06:21.085330\n",
       "1   451141627490821775           1   60.00 2025-07-23 20:06:21.090884\n",
       "2  1475064741160474357          10   90.00 2025-07-23 20:06:21.093729\n",
       "3  1043847060973054025           1  -80.00 2025-07-23 20:06:21.096271\n",
       "4  1216133869908735481           2   90.00 2025-07-23 20:06:21.098962"
      ]
     },
     "metadata": {},
     "output_type": "display_data"
    },
    {
     "data": {
      "text/html": [
       "<div>\n",
       "<style scoped>\n",
       "    .dataframe tbody tr th:only-of-type {\n",
       "        vertical-align: middle;\n",
       "    }\n",
       "\n",
       "    .dataframe tbody tr th {\n",
       "        vertical-align: top;\n",
       "    }\n",
       "\n",
       "    .dataframe thead th {\n",
       "        text-align: right;\n",
       "    }\n",
       "</style>\n",
       "<table border=\"1\" class=\"dataframe\">\n",
       "  <thead>\n",
       "    <tr style=\"text-align: right;\">\n",
       "      <th></th>\n",
       "      <th>account_id</th>\n",
       "      <th>current_balance</th>\n",
       "      <th>updated_at</th>\n",
       "    </tr>\n",
       "  </thead>\n",
       "  <tbody>\n",
       "    <tr>\n",
       "      <th>0</th>\n",
       "      <td>5</td>\n",
       "      <td>50.00</td>\n",
       "      <td>2025-07-23 20:06:21.085330</td>\n",
       "    </tr>\n",
       "    <tr>\n",
       "      <th>1</th>\n",
       "      <td>10</td>\n",
       "      <td>90.00</td>\n",
       "      <td>2025-07-23 20:06:21.093729</td>\n",
       "    </tr>\n",
       "    <tr>\n",
       "      <th>2</th>\n",
       "      <td>1</td>\n",
       "      <td>-20.00</td>\n",
       "      <td>2025-07-23 20:06:21.096271</td>\n",
       "    </tr>\n",
       "    <tr>\n",
       "      <th>3</th>\n",
       "      <td>2</td>\n",
       "      <td>90.00</td>\n",
       "      <td>2025-07-23 20:06:21.098962</td>\n",
       "    </tr>\n",
       "  </tbody>\n",
       "</table>\n",
       "</div>"
      ],
      "text/plain": [
       "   account_id current_balance                 updated_at\n",
       "0           5           50.00 2025-07-23 20:06:21.085330\n",
       "1          10           90.00 2025-07-23 20:06:21.093729\n",
       "2           1          -20.00 2025-07-23 20:06:21.096271\n",
       "3           2           90.00 2025-07-23 20:06:21.098962"
      ]
     },
     "metadata": {},
     "output_type": "display_data"
    }
   ],
   "source": [
    "display(await pg_end.select('SELECT * FROM main.transactions'))\n",
    "display(await pg_end.select('SELECT * FROM main.balance'))"
   ]
  },
  {
   "cell_type": "markdown",
   "id": "87793ece-1e12-4841-af20-d086cf06b466",
   "metadata": {},
   "source": [
    "На этом, думаю, можно закончить!"
   ]
  }
 ],
 "metadata": {
  "kernelspec": {
   "display_name": "Python 3 (ipykernel)",
   "language": "python",
   "name": "python3"
  },
  "language_info": {
   "codemirror_mode": {
    "name": "ipython",
    "version": 3
   },
   "file_extension": ".py",
   "mimetype": "text/x-python",
   "name": "python",
   "nbconvert_exporter": "python",
   "pygments_lexer": "ipython3",
   "version": "3.10.16"
  }
 },
 "nbformat": 4,
 "nbformat_minor": 5
}
