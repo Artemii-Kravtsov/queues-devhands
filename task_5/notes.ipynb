{
 "cells": [
  {
   "cell_type": "markdown",
   "id": "6a1c5cac-bb31-4ba5-a0a5-49808e2df6d7",
   "metadata": {},
   "source": [
    "Задание:\n",
    "\n",
    "> Play with NATS\n",
    "> \n",
    "> Test Pub/Sub\n",
    "> \n",
    "> Test Work Queue (group consumers)\n",
    "> \n",
    "> Test Request/Response"
   ]
  },
  {
   "cell_type": "markdown",
   "id": "8225c299-fa6d-4e32-b84e-7164cb687e2d",
   "metadata": {},
   "source": [
    "В первом задании я использовал NATS Core, чтобы сделать очередь для микросервисного взаимодействия. Я столкнулся с фундаментальными ограничениями, из-за которых которых пришлось мириться с тем, что:\n",
    "* Если потушить брокера, то потеряются сообщения, на которые уже запрошен ответ, но ещё не получен.\n",
    "* Если потушить консьюмера, то вместе с ним пропадут сообщения, взятые им в обработку (включая буфер).\n",
    "* Если потушить продьюсера, то, в целом, ничего не теряется, но если какие-то сообщения упавшего продьюсера ожидают ответа, то ответ пропадёт. Второй продьюсер не примет на себя ответ, направленный другому.\n",
    "\n",
    "Сейчас попробую решить ту же задачу с использованием NATS JetStream и кластера из трёх нод. Кластер поднимаю с помощью docker compose. Устанавливаю CLI."
   ]
  },
  {
   "cell_type": "code",
   "execution_count": 29,
   "id": "6a52ebd1-1c6f-4ce3-8422-cc8d22d8ea37",
   "metadata": {},
   "outputs": [
    {
     "name": "stdout",
     "output_type": "stream",
     "text": [
      "NATS Configuration Context \"sys\"\n",
      "\n",
      "      Server URLs: localhost:4222,localhost:4223,localhost:4224\n",
      "         Username: admin\n",
      "         Password: *********\n",
      "            Token: admin\n",
      "             Path: /home/timosha/.config/nats/context/sys.json\n",
      "\n",
      "NATS Configuration Context \"user\"\n",
      "\n",
      "      Server URLs: localhost:4222,localhost:4223,localhost:4224\n",
      "         Username: user\n",
      "         Password: *********\n",
      "            Token: user\n",
      "             Path: /home/timosha/.config/nats/context/user.json\n",
      "\n"
     ]
    }
   ],
   "source": [
    "!nats context add sys --server localhost:4222,localhost:4223,localhost:4224 --user admin --password admin\n",
    "!nats context add user --server localhost:4222,localhost:4223,localhost:4224 --user user --password user\n",
    "!nats context select user &> /dev/null"
   ]
  },
  {
   "cell_type": "code",
   "execution_count": 35,
   "id": "e470c7e6-6247-4ae1-989a-5635252cb45c",
   "metadata": {},
   "outputs": [
    {
     "name": "stdout",
     "output_type": "stream",
     "text": [
      "Stream REQUESTS was created\n",
      "\n",
      "Information for Stream REQUESTS created 2025-07-23 23:50:30\n",
      "\n",
      "             Subjects: users.requests\n",
      "             Replicas: 3\n",
      "              Storage: Memory\n",
      "\n",
      "Options:\n",
      "\n",
      "            Retention: WorkQueue\n",
      "     Acknowledgements: true\n",
      "       Discard Policy: New\n",
      "     Duplicate Window: 5s\n",
      "    Allows Msg Delete: false\n",
      "         Allows Purge: true\n",
      "       Allows Rollups: false\n",
      "\n",
      "Limits:\n",
      "\n",
      "     Maximum Messages: unlimited\n",
      "  Maximum Per Subject: unlimited\n",
      "        Maximum Bytes: unlimited\n",
      "          Maximum Age: 5.00s\n",
      " Maximum Message Size: unlimited\n",
      "    Maximum Consumers: unlimited\n",
      "\n",
      "\n",
      "Cluster Information:\n",
      "\n",
      "                 Name: nats\n",
      "               Leader: inst-3\n",
      "              Replica: inst-1, current, seen 0.00s ago\n",
      "              Replica: inst-2, current, seen 0.00s ago\n",
      "\n",
      "State:\n",
      "\n",
      "             Messages: 0\n",
      "                Bytes: 0 B\n",
      "             FirstSeq: 0\n",
      "              LastSeq: 0\n",
      "     Active Consumers: 0\n"
     ]
    }
   ],
   "source": [
    "!nats stream add REQUESTS --storage memory --subjects \"users.requests\" --replicas 3 --retention work --discard new --max-msgs=-1 --max-msgs-per-subject=-1 --max-bytes=-1 --max-age 5s --max-msg-size=-1 --dupe-window 0 --no-allow-rollup --deny-delete --no-deny-purge"
   ]
  },
  {
   "cell_type": "markdown",
   "id": "6eabd869-61d7-4871-a501-eb936836666e",
   "metadata": {},
   "source": [
    "* `--storage file`: сообщения из очереди хранятся в памяти (с коротким TTL в 5 секунд нецелесообразно тратить время на диск)\n",
    "* `--replicas 3`: очередь реплицируется трижды\n",
    "* `--retention work`: сообщения удаляются из стрима, как только они обработаны (acked) всеми, кому доставлены\n",
    "* `--discard new`: если стрим заполнен до предела, он будет заблокирован для записи\n",
    "* `--max-msgs -1`: нет ограничения на максимальное кол-во сообщений в стриме\n",
    "* `--max-msgs-per-subject -1`: нет ограничения на максимальное кол-во сообщений в сабжекте\n",
    "* `--max-bytes -1`: нет ограничения на размер стрима\n",
    "* `--max-age 5s`: сообщения удаляются через 5 секунд после публикации\n",
    "* `--max-msg-size -1`: сообщения не ограничены по размеру\n",
    "* `--dupe-window 0`: отключает отслеживание дубликатов\n",
    "* `--no-allow-rollup`: запрещает свёртку сообщений\n",
    "* `--deny-delete`: запрещает удалять сообщения вручную\n",
    "* `--no-deny-purge`: позволяет вручную чистить весь стрим целиком"
   ]
  },
  {
   "cell_type": "markdown",
   "id": "554ccab5-5753-44cd-845b-8e91ae6f61f7",
   "metadata": {},
   "source": [
    "Если ответы отправляются на временные `_INBOX.*` сабжекты, они не сохраняются в стрим. А это не здорово. Ответы тоже хочется хранить персистентно. \n",
    "Создаю стрим для ответов. Он будет похож на первый стрим, но без TTL и не более одного сообщения в сабжекте - нужен только один ответ на каждый запрос."
   ]
  },
  {
   "cell_type": "code",
   "execution_count": 37,
   "id": "51882469-dd72-4743-844a-cca58a4fb3d3",
   "metadata": {},
   "outputs": [
    {
     "name": "stdout",
     "output_type": "stream",
     "text": [
      "Stream RESPONSES was created\n",
      "\n",
      "Information for Stream RESPONSES created 2025-07-23 23:59:13\n",
      "\n",
      "             Subjects: users.responses.*\n",
      "             Replicas: 3\n",
      "              Storage: Memory\n",
      "\n",
      "Options:\n",
      "\n",
      "            Retention: WorkQueue\n",
      "     Acknowledgements: true\n",
      "       Discard Policy: New\n",
      "     Duplicate Window: 2m0s\n",
      "    Allows Msg Delete: false\n",
      "         Allows Purge: true\n",
      "       Allows Rollups: false\n",
      "\n",
      "Limits:\n",
      "\n",
      "     Maximum Messages: unlimited\n",
      "  Maximum Per Subject: 1\n",
      "        Maximum Bytes: unlimited\n",
      "          Maximum Age: unlimited\n",
      " Maximum Message Size: unlimited\n",
      "    Maximum Consumers: unlimited\n",
      "\n",
      "\n",
      "Cluster Information:\n",
      "\n",
      "                 Name: nats\n",
      "               Leader: inst-3\n",
      "              Replica: inst-1, current, seen 0.00s ago\n",
      "              Replica: inst-2, current, seen 0.00s ago\n",
      "\n",
      "State:\n",
      "\n",
      "             Messages: 0\n",
      "                Bytes: 0 B\n",
      "             FirstSeq: 0\n",
      "              LastSeq: 0\n",
      "     Active Consumers: 0\n"
     ]
    }
   ],
   "source": [
    "!nats stream add RESPONSES --storage memory --subjects \"users.responses.*\" --replicas 3 --retention work --discard new --max-msgs=-1 --max-msgs-per-subject=1 --max-bytes=-1 --max-age=-1 --max-msg-size=-1 --dupe-window 0 --no-allow-rollup --deny-delete --no-deny-purge"
   ]
  },
  {
   "cell_type": "markdown",
   "id": "2c90fc34-9c9d-4b2a-84f2-0eb08506349f",
   "metadata": {},
   "source": [
    "Теперь надо внести изменения в продьюсера и коньюмера. Планирую:\n",
    "1. Явным образом добавить INBOX сабжект, перехватывать сообщения в сабжекты в JetStream. Аналог `request` надо cделать самому на основе одноразовой подписки на сабжект `reply_to`: дело в том, что питоновский `request` безальтернативно принимает ответы в свой неперсистентный INBOX.\n",
    "2. Если перезапускается продьюсер, то он сможет получить ответы на предыдущие запросы только если будет помнить, на какие запросы ждал ответа. Так он сможет подписаться на сабжекты, куда эти ответы прийдут. Но мне больше нравится идея связать продьюсеров между собой, чтобы один из них мог передать свои задачи другим (прежде чем завершиться). Это можно сделать через отдельный сабжект, который не обязан быть персистентным. На этот сабжект все живые продьюсеры будут подписаны из-под одной consumer queue.\n",
    "3. Пусть консьюмеры пуллят задачи из стрима. Это решит проблему, возникшую ранее, когда у нас появился медленный консьюмер. Медленный консьюмер набирал столько же задач, сколько быстрый - и просрочивал выполнение. Пуллить задачу могут только консьюмеры JetStream (стандартная подписка на сабжект из NATS Core не подходит).\n",
    "4. Важно, чтобы продьюсер мог получить ответ, если задача ему досталась от другого продьюсера. Это значит, что продьюсер может подписаться сабжект уже после того, как в него опубликуют сообщение. В NATS Core так сделать нельзя: если никто не принимает сообщение, оно пропадает. Поэтому здесь тоже нужен консьюмер JetStream.\n",
    "\n",
    "Разделение между продьюсерами и консьюмерами становится довольно условным - и те, и те компоненты теперь выступают в обеих ролях."
   ]
  },
  {
   "cell_type": "markdown",
   "id": "61bc9265-9ed7-4b2c-8cb7-6d72f22c1869",
   "metadata": {},
   "source": [
    "![image.png](./pic/_1.png)"
   ]
  },
  {
   "cell_type": "markdown",
   "id": "b6d66d5d-6908-4380-9c6f-51bedc5c8d9c",
   "metadata": {},
   "source": [
    "Если по одному консьюмеру и продьюсеру, то всё работает. Добавлю второго консьюмера"
   ]
  },
  {
   "cell_type": "markdown",
   "id": "be838204-d38b-4eed-b64f-835648035afb",
   "metadata": {},
   "source": [
    "![image.png](./pic/_2.png)"
   ]
  },
  {
   "cell_type": "markdown",
   "id": "9a25eea3-1efc-4c22-a6f8-ff91f64a3258",
   "metadata": {},
   "source": [
    "1. Благодаря `ack_policy=\"explicit\"` сообщение не считается обработанным, пока консьюмер не сделает `ack`. Первый консьюмер при отключении сделал `nack`, благодаря чему сообщение с `user_id=7` снова оказалось доступно к прочтению из очереди. Его подхватил и обработал второй консьюмер. По логам продьюсера видно, что в конечном итоге тот получил ответ с `user_id=7` именно от второго консьюмера\n",
    "2. Благодаря pull-модели каждый консьюмер берёт задачи в своём темпе. Быстрый консьюмер набирает себе больше задач, медленный - меньше.\n",
    "3. Консьюмеры делят между собой сообщения благодаря тому, что работают изнутри одной durable-группы. Когда очередь JetStream создана по модели `WorkQueue` (сообщения живут до первого `ack`-а) и очередь разбирается через pull-консьюмеров, нельзя создать больше одной durable-группы на сабжект. У нас как раз она одна.\n",
    "4. Если поднять продьюсеров раньше чем консьюмеров, это не помешает консьюмерам получить сообщения - NATS их держит на своей стороне на протяжении всего времени TTL.\n",
    "\n",
    "Теперь протестирую работу с несколькими продьюсерами."
   ]
  },
  {
   "cell_type": "markdown",
   "id": "73e44e0a-4b80-49cc-985e-789f55b31b30",
   "metadata": {},
   "source": [
    "![image.png](./pic/_3.png)"
   ]
  },
  {
   "cell_type": "markdown",
   "id": "60d2b5a9-3b97-4b47-ad0c-08161434477d",
   "metadata": {},
   "source": [
    "Второй продьюсер перед отключением смог передать свои задачи первому продьюсеру. Полученные от второго продьюсера задачи первый продьюсер успешно отправил на обработку и дождался ответа на них.\n",
    "\n",
    "Если продьюсер кидает реквест и падает, то реквест будет подобран консьюмером и ответ запушен в явно указанный топик - консьюмеры о продьюсерах ничего не знают. Продьюсер перед падением передаст свои задачи другим продьюсерам. Другие продьюсеры ещё раз поставят те же задачи и, возможно, консьюмеры ещё раз выполнят ту же работу. Это исключительный случай и это некритично: в INBOX-сабжект нельзя одновременно публикавать больше одного сообщения (настройка стрима), плюс продьюсеры читают из этих сабжектов не более одного сообщения.\n",
    "\n",
    "Последнее, что хочется протестировать - падение брокера. "
   ]
  },
  {
   "cell_type": "markdown",
   "id": "76c85ebb-dd26-4b12-a17f-7e22134367d9",
   "metadata": {},
   "source": [
    "![image.png](./pic/_4.png)"
   ]
  },
  {
   "cell_type": "markdown",
   "id": "3e3cfbf3-b362-4e31-bd70-3d9ea30aea82",
   "metadata": {},
   "source": [
    "Падение одного из трёх ни на что не повлияло. Первый консьюмер столкнулся с ошибкой, однако библиотека для работы с NATS эту ошибку подавила (делаю такой вывод на основании того, что если бы ошибку обрабатывал написанный мною код, программа бы завершилась). Брокер повторно отдал то сообщение, с которым не получилось поработать у первого консьюмера - это видно по тому, что ответ на `user_id=60` первый продьюсер получил в итоге от второго консьюмера, а не первого."
   ]
  }
 ],
 "metadata": {
  "kernelspec": {
   "display_name": "Python 3 (ipykernel)",
   "language": "python",
   "name": "python3"
  },
  "language_info": {
   "codemirror_mode": {
    "name": "ipython",
    "version": 3
   },
   "file_extension": ".py",
   "mimetype": "text/x-python",
   "name": "python",
   "nbconvert_exporter": "python",
   "pygments_lexer": "ipython3",
   "version": "3.10.16"
  }
 },
 "nbformat": 4,
 "nbformat_minor": 5
}
