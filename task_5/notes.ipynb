{
 "cells": [
  {
   "cell_type": "markdown",
   "id": "b2b7ceb6-debc-4881-b4f5-c5338a3200d1",
   "metadata": {},
   "source": [
    "Задание:\n",
    "> Implement simple processing pipeline:\n",
    "> \n",
    "> Run/use any broker of your choice\n",
    "> \n",
    "> Create minimal producer and consumer\n",
    ">\n",
    "> Run several producers and several consumer simultaneously"
   ]
  },
  {
   "cell_type": "markdown",
   "id": "145aee0b-91f8-4895-9e22-232ff98a1567",
   "metadata": {},
   "source": [
    "Попробую сделать очередь для микросервисного взаимодействия такую, что продьюсер ожидает ответа от консьюмера (request/reply модель). Ответ нужен или сейчас (допустим, в течение 5 секунд), или никогда. Раз так, то можно рассчитывать на то, что персистентность не потребуются - поэтому попробую NATS Core (не JetStream), в котором гарантий персистентности (доступности сообщений после сбоев, перезапусков) нет"
   ]
  },
  {
   "cell_type": "markdown",
   "id": "bb26fc56-7e44-46f8-a918-9fdcf45192af",
   "metadata": {},
   "source": [
    "```sh\n",
    "curl -sf https://binaries.nats.dev/nats-io/nats-server/v2@latest | sh\n",
    "sudo mv nats-server /usr/bin/\n",
    "```"
   ]
  },
  {
   "cell_type": "code",
   "execution_count": 4,
   "id": "623ec366-b9df-4fc0-875c-e8e9922f2857",
   "metadata": {},
   "outputs": [
    {
     "name": "stdout",
     "output_type": "stream",
     "text": [
      "nats-server: v2.11.6\n"
     ]
    }
   ],
   "source": [
    "!nats-server -v"
   ]
  },
  {
   "cell_type": "code",
   "execution_count": 7,
   "id": "ee2f616a-0795-449d-8d92-524c7f80ecdc",
   "metadata": {},
   "outputs": [
    {
     "name": "stdout",
     "output_type": "stream",
     "text": [
      "[15337] 2025/07/12 18:38:39.763402 [\u001b[32mINF\u001b[0m] Starting nats-server\n",
      "[15337] 2025/07/12 18:38:39.763455 [\u001b[32mINF\u001b[0m]   Version:  2.11.6\n",
      "[15337] 2025/07/12 18:38:39.763459 [\u001b[32mINF\u001b[0m]   Git:      [bc813ee]\n",
      "[15337] 2025/07/12 18:38:39.763461 [\u001b[32mINF\u001b[0m]   Name:     NBZT7LE7YE3FGIDMGVG255T2VEQLQKPS23SPJUGKIGYNSGPV4ONRARR6\n",
      "[15337] 2025/07/12 18:38:39.763476 [\u001b[32mINF\u001b[0m]   ID:       NBZT7LE7YE3FGIDMGVG255T2VEQLQKPS23SPJUGKIGYNSGPV4ONRARR6\n",
      "[15337] 2025/07/12 18:38:39.763925 [\u001b[32mINF\u001b[0m] Listening for client connections on 0.0.0.0:4222\n",
      "[15337] 2025/07/12 18:38:39.764130 [\u001b[32mINF\u001b[0m] Server is ready\n",
      "^C\n",
      "[15337] 2025/07/12 18:38:42.000241 [\u001b[32mINF\u001b[0m] Trapped \"interrupt\" signal\n",
      "[15337] 2025/07/12 18:38:42.000531 [\u001b[32mINF\u001b[0m] Initiating Shutdown...\n",
      "[15337] 2025/07/12 18:38:42.000691 [\u001b[32mINF\u001b[0m] Server Exiting..\n"
     ]
    }
   ],
   "source": [
    "!nats-server"
   ]
  },
  {
   "cell_type": "markdown",
   "id": "ea169da1-5918-4373-9372-a86f79b073ca",
   "metadata": {},
   "source": [
    "Что делаю в начале:\n",
    "1. Если активных консьюмеров нет, продьюсер спит 10 секунд и пишет об этом в лог\n",
    "2. Между новыми сообщениями от продьюсера проходит не более секунды. Консьюмер обрабатывает одну задачу от двух до трёх секунд.\n",
    "3. Отправленная в очередь задача актуальна на протяжении пяти секунд. Затем корутина, назначенная на обработку ответа, падает по таймауту\n",
    "\n",
    "Опубликовать можно даже в несуществующий subject. Но если я публикую по схеме request-reply, то NATS ожидает, что есть хотя бы один активный консьюмер, который подписан на subject и готов ответить. Если я публикую по схеме publish-subscribe в несуществующий subject, в NATS Core оно просто никому не достанется и канет в лету"
   ]
  },
  {
   "cell_type": "markdown",
   "id": "56c60d3e-df62-4baa-bcde-635ed8c07548",
   "metadata": {},
   "source": [
    "Код, приведённый ниже - это первоначальные версии без дальнейших доработок. Окончательные версии - в соседних файлах."
   ]
  },
  {
   "cell_type": "markdown",
   "id": "563fe022-138b-4cf6-86b2-7241e18d99c4",
   "metadata": {
    "jp-MarkdownHeadingCollapsed": true
   },
   "source": [
    "## Продьюсер \n",
    "#### producer.py"
   ]
  },
  {
   "cell_type": "code",
   "execution_count": 213,
   "id": "f65adbbe-a8f0-4d8b-b400-bcaec1882186",
   "metadata": {},
   "outputs": [],
   "source": [
    "import nats\n",
    "import json\n",
    "import random\n",
    "from datetime import datetime\n",
    "import asyncio\n",
    "from asyncio import create_task, Event, sleep, run\n",
    "from nats.errors import NoRespondersError, TimeoutError\n",
    "from misc import SUBJECT, URL, get_logger\n",
    "\n",
    "\n",
    "async def get_request(nc, message, no_consumers_event, logger):\n",
    "    user_id = message['user_id']\n",
    "    try:\n",
    "        response = await nc.request(\n",
    "            SUBJECT, \n",
    "            json.dumps(message).encode(),\n",
    "            timeout=5, \n",
    "            headers=dict(user_id=str(user_id)))\n",
    "        logger.info(f'Got response for {user_id=}')\n",
    "    except NoRespondersError:\n",
    "        no_consumers_event.set()\n",
    "    except TimeoutError:\n",
    "        logger.error(f'Timeout for {user_id=}')\n",
    "\n",
    "\n",
    "async def main():\n",
    "    nc = await nats.connect(URL)\n",
    "    no_consumers_event = Event()\n",
    "    logger = get_logger('producer')\n",
    "    users_bank = cycle(range(1000))\n",
    "    try:\n",
    "        while True:\n",
    "            if no_consumers_event.is_set():\n",
    "                logger.warning('No consumers available. Falling asleep')\n",
    "                await sleep(10)\n",
    "                no_consumers_event.clear()\n",
    "            user_id = next(users_bank)\n",
    "            message = {\"user_id\": user_id}\n",
    "            create_task(get_request(nc, message, no_consumers_event, logger))\n",
    "            await asyncio.sleep(random.uniform(0, 1.5))\n",
    "    finally:\n",
    "        await nc.close()\n",
    "\n",
    "if __name__ == '__main__':\n",
    "    run(main())"
   ]
  },
  {
   "cell_type": "markdown",
   "id": "db890e55-3ec7-4171-a337-a778e2a9f454",
   "metadata": {
    "jp-MarkdownHeadingCollapsed": true
   },
   "source": [
    "## Консьюмер\n",
    "#### consumer.py"
   ]
  },
  {
   "cell_type": "code",
   "execution_count": null,
   "id": "0358a7f3-0392-4b97-939e-3f5d1d4d26ac",
   "metadata": {},
   "outputs": [],
   "source": [
    "import nats\n",
    "import json\n",
    "import random\n",
    "import asyncio\n",
    "from asyncio import run\n",
    "from misc import SUBJECT, URL, get_logger\n",
    "\n",
    "\n",
    "async def main():\n",
    "    nc = await nats.connect(URL)\n",
    "    sub = await nc.subscribe(SUBJECT, queue=\"workers\")\n",
    "    logger = get_logger('consumer')\n",
    "    logger.info('Start consuming')\n",
    "    async for msg in sub.messages:\n",
    "        data = json.loads(msg.data.decode())\n",
    "        logger.info(f\"Got msg with user_id={msg.headers['user_id']} queued at {data['ts']}\")\n",
    "        response = {'proceeded': True, **data}\n",
    "        await asyncio.sleep(random.uniform(2, 2.4))\n",
    "        await msg.respond(json.dumps(response).encode())\n",
    "\n",
    "\n",
    "if __name__ == '__main__':\n",
    "    run(main())"
   ]
  },
  {
   "cell_type": "markdown",
   "id": "ad56541e-6807-42bd-bfb6-e62b526d69d4",
   "metadata": {},
   "source": [
    "![image.png](pic/_1.png)"
   ]
  },
  {
   "cell_type": "markdown",
   "id": "83d35914-c685-49f0-b730-26f047d80d5a",
   "metadata": {},
   "source": [
    "Выявил такие проблемы:\n",
    "1. Если консьюмер только подключился, то он не получит задач, возникших до его подключения. \n",
    "2. Но вот затем все сообщения, адресованные ему, к нему попадут - даже если на стороне продьюсера уже давно случился таймаут и никто не ждёт ответа. Из-за этого скапливается очередь, хотя держать за собой хвост длиннее 5 секунд нет смысла"
   ]
  },
  {
   "cell_type": "markdown",
   "id": "71fce5ea-5ed8-4e74-a9ee-509f4af931ea",
   "metadata": {},
   "source": [
    "Что можно предложить:\n",
    "1. Очередь не персистента и не хранит сообщения. Если нет подписчиков, сообщение просто \"теряется\" (не доставляется никому), и это не считается ошибкой в NATS Core. C этим ничего не поделаешь\n",
    "2. Несколько улучшений:\n",
    "    1. Хочу логгировать информацию о том, сколько консьюмеру адресовано сообщений (сколько не разобрано).\n",
    "    2. Хочу удалять сообщения из очереди, если оно не взято в обработку в течение 5 секунд после появления, либо на стороне консьюмера скипать по ts старые сообщения без обработки. Первое звучит лучше, второе - если первое не выйдет\n",
    "    3. Если консьюмер может скипать сообщения по ts, не заглядывая в тело, то пусть ts будет в заголовках, а не в теле - тело может быть затратно декодировать."
   ]
  },
  {
   "cell_type": "markdown",
   "id": "9813ab74-e8a2-4b21-abea-f09d7c628925",
   "metadata": {},
   "source": [
    "1. Эта информация ассоциирована с подпиской. У каждого консьюмера на стороне NATS есть буфер, в котором лежат сообщения, которые адресованы ему, но ещё не извлчены и не обработаны. Добавляю в код `sub.pending_msgs`\n",
    "2. Выяснил, что зависшие сообщения уже доставлены сервером NATS конкретному подписчику (моему консьюмеру). Они находятся в \"буфере клиентской библиотеки\", то есть в памяти воркера. Если так, то не имеет смысла пытаться удалить сообщение из очереди - его уже в ней нет. Надо отматывать на стороне консьюмера\n",
    "3. Сделал\n",
    "\n",
    "И запустил ещё одного консьюмера, который обрабатывает сообщения быстрее, чем они появляются. Теоретически, он один мог бы справиться со всеми задачами"
   ]
  },
  {
   "cell_type": "markdown",
   "id": "6daded4a-66f7-4ba8-932e-ae07b2811f59",
   "metadata": {},
   "source": [
    "![image.png](pic/_2.png)"
   ]
  },
  {
   "cell_type": "markdown",
   "id": "018213ae-194e-436a-ba98-2ff19d4e71a1",
   "metadata": {},
   "source": [
    "Но NATS распределяет сообщения по умолчанию, используя round-robin алгоритм. Первый консьюмер получает столько же, сколько второй, однако часть полученных сообщений не успевает обработать до таймаута.\n",
    "\n",
    "Варианты решения:\n",
    "1. Изменить push-модель на pull-модель\n",
    "2. Изменить round-robin на что-то, основанное на статистике\n",
    "3. Запретить брокеру кидать консьюмеру в буфер новое сообщение, пока не обработано предыдущее. Пусть держит у себя\n",
    "4. Запретить продьюсеру кидать новое сообщение в брокера, пока нет ack-ов на предыдущие\n",
    "\n",
    "Нюансы:\n",
    "1. pull-модель работает только в JetStream\n",
    "2. В NATS Core нет встроенной поддержки кастомных алгоритмов балансировки. Можно было бы сделать отдельный топик для каждого рабочего воркера и публикать там текущий latency, а продьюсер бы кидал сообщения в топик к самому свободному воркеру и сам реализовывал логику балансировки. Но выглядит слишком запутанно и требует publish/subsribe модели. request/reply можно сделать, если оставить одного консьюмера, который будет балансировать поступающие сообщения между остальными воркерами. Но это ещё запутаннее\n",
    "3. А это, кажется, вполне возможно. Добавляю `pending_msgs_limit=1` в настройку подключения консьюмера\n",
    "4. Технически возможно, но хочется сохранить асинхронность во взаимодействии продьюсера с консьюмером"
   ]
  },
  {
   "cell_type": "markdown",
   "id": "b0daa128-b372-4ed8-a23b-bea8eea32586",
   "metadata": {},
   "source": [
    "![image.png](pic/_3.png)"
   ]
  },
  {
   "cell_type": "markdown",
   "id": "27b90cb9-550c-4a2e-9ddc-a5d0d491dc06",
   "metadata": {},
   "source": [
    "Брокер продолжает пушить сообщения, но теперь консьюмер отказывается их принимать, если он занят предыдущими сообщениями. Сообщение в этом случае теряется - NATS не передаёт его следующему консьюмеру, а выкидывает. Так что размером буфера такие проблемы не решаются. Буферизация, видимо, помогает консьюмеру подгружать новые сообщения в фоне, но не помогает брокеру с балансировкой. \n",
    "\n",
    "Если нам всё-таки нужно что-то сделать с медленным консьюмером, можем воспользоваться буфером как инструментом: копим в буфере столько, сколько консьюмер обработает за 4 секунды. Когда буфер достигает такого размера, который обработается за 4 секунды, консьюмер отписывается от топика и разбирает накопившиеся сообщения. Затем снова подписывается.\n",
    "\n",
    "Стопаю медленного консьюмера - все сообщения из сабжекта теперь адресуются быстрому. Гарантия доставки в NATS Core - at least once. Брокер не следит за ack-ами, поэтому сообщения, доставленные медленному консьюмеру - потеряны.\n",
    "\n",
    "Разведу двух консьюмеров по разным консьюмер-группам чтобы посмотреть, что будет."
   ]
  },
  {
   "cell_type": "markdown",
   "id": "4034039f-9cd3-47ae-b609-6d34bff0b302",
   "metadata": {},
   "source": [
    "![image.png](pic/_4.png)"
   ]
  },
  {
   "cell_type": "markdown",
   "id": "e8d2f347-9d96-4a03-9dbd-f0ed6e9eed23",
   "metadata": {},
   "source": [
    "В каждую группу попадёт 100% поступивших сообщений, но только первый ответ будет доставлен продьюсеру. Впрочем, ошибок в запоздавших группах не будет - reply-и отработают, хотя запоздавшие ответы никому не достанутся. \n",
    "\n",
    "Если один subject заполняют два продьюсера, то, в целом, ничего не меняется"
   ]
  },
  {
   "cell_type": "markdown",
   "id": "a921ca6c-a720-4005-b6bd-9add3f8f4c6a",
   "metadata": {},
   "source": [
    "![image.png](pic/_5.png)"
   ]
  },
  {
   "cell_type": "markdown",
   "id": "17492afe-0003-478b-9919-50004411b8c5",
   "metadata": {},
   "source": [
    "* Если потушить брокера, то потеряются сообщения, на которые уже запрошен ответ, но ещё не получен.\n",
    "* Если потушить консьюмера, то вместе с ним пропадут сообщения, взятые им в обработку (включая буфер).\n",
    "* Если потушить продьюсера, то, в целом, ничего не теряется, но если какие-то сообщения упавшего продьюсера ожидают ответа, то ответ пропадёт. Второй продьюсер не примет на себя ответ, направленный другому.\n",
    "\n",
    "Если хоть что-то из этого критично, то, наверное, лучше экспериментировать с JetStream. NATS Core работает по принципу fire-and-forget и отказывается организовывать хранение сообщений на стороне брокера. А это необходимо, если нужно подстраховаться от потери сообщений консьюмером или продьюсером"
   ]
  }
 ],
 "metadata": {
  "kernelspec": {
   "display_name": "Python 3 (ipykernel)",
   "language": "python",
   "name": "python3"
  },
  "language_info": {
   "codemirror_mode": {
    "name": "ipython",
    "version": 3
   },
   "file_extension": ".py",
   "mimetype": "text/x-python",
   "name": "python",
   "nbconvert_exporter": "python",
   "pygments_lexer": "ipython3",
   "version": "3.10.16"
  }
 },
 "nbformat": 4,
 "nbformat_minor": 5
}
